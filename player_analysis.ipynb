{
 "cells": [
  {
   "cell_type": "code",
   "execution_count": 1,
   "id": "50270ca4-5abb-451d-867a-2a84218ab6db",
   "metadata": {},
   "outputs": [],
   "source": [
    "from pyspark.sql import SparkSession\n",
    "\n",
    "# Spark session & context\n",
    "spark = SparkSession.builder.master('local').getOrCreate()\n",
    "sc = spark.sparkContext"
   ]
  },
  {
   "cell_type": "code",
   "execution_count": 2,
   "id": "81d2f575-033b-4efc-9f5b-e439887ef460",
   "metadata": {},
   "outputs": [],
   "source": [
    "players = spark.read.format('csv').option('header', True).load('./datasets/player.csv')"
   ]
  },
  {
   "cell_type": "code",
   "execution_count": 3,
   "id": "73690299-c0bc-4482-95a7-df454cadb2fa",
   "metadata": {},
   "outputs": [
    {
     "name": "stdout",
     "output_type": "stream",
     "text": [
      "root\n",
      " |-- id: string (nullable = true)\n",
      " |-- player_api_id: string (nullable = true)\n",
      " |-- player_name: string (nullable = true)\n",
      " |-- player_fifa_api_id: string (nullable = true)\n",
      " |-- birthday: string (nullable = true)\n",
      " |-- height: string (nullable = true)\n",
      " |-- weight: string (nullable = true)\n",
      "\n"
     ]
    }
   ],
   "source": [
    "players.printSchema()"
   ]
  },
  {
   "cell_type": "code",
   "execution_count": 4,
   "id": "37fcc5d5-5612-4e8c-baa0-d64eb2906c64",
   "metadata": {},
   "outputs": [
    {
     "name": "stdout",
     "output_type": "stream",
     "text": [
      "+---+-------------+--------------------+------------------+-------------------+------+------+\n",
      "| id|player_api_id|         player_name|player_fifa_api_id|           birthday|height|weight|\n",
      "+---+-------------+--------------------+------------------+-------------------+------+------+\n",
      "| 13|       163222|      Aaron Muirhead|            213568|1990-08-30 00:00:00|187.96|   168|\n",
      "| 15|        75489|        Aaron Ramsey|            186561|1990-12-26 00:00:00| 177.8|   154|\n",
      "| 22|       245653|Abdelfettah Boukh...|            202425|1986-10-22 00:00:00|185.42|   161|\n",
      "| 30|        41659|    Abderrazak Jadid|            149241|1983-06-01 00:00:00| 177.8|   157|\n",
      "| 39|       191784|        Abdoulaye Ba|            204826|1991-01-01 00:00:00|198.12|   174|\n",
      "+---+-------------+--------------------+------------------+-------------------+------+------+\n",
      "only showing top 5 rows\n",
      "\n"
     ]
    }
   ],
   "source": [
    "players.sample(0.1).show(5)"
   ]
  },
  {
   "cell_type": "code",
   "execution_count": 5,
   "id": "a8eb6708-d206-4c67-a481-d19a91af9d67",
   "metadata": {},
   "outputs": [],
   "source": [
    "player_attributes = spark.read.format('csv').option('header', True).load('./datasets/player_Attributes.csv')"
   ]
  },
  {
   "cell_type": "code",
   "execution_count": 6,
   "id": "8a301953-c775-4807-847f-3f173e78946c",
   "metadata": {},
   "outputs": [
    {
     "name": "stdout",
     "output_type": "stream",
     "text": [
      "root\n",
      " |-- id: string (nullable = true)\n",
      " |-- player_fifa_api_id: string (nullable = true)\n",
      " |-- player_api_id: string (nullable = true)\n",
      " |-- date: string (nullable = true)\n",
      " |-- overall_rating: string (nullable = true)\n",
      " |-- potential: string (nullable = true)\n",
      " |-- preferred_foot: string (nullable = true)\n",
      " |-- attacking_work_rate: string (nullable = true)\n",
      " |-- defensive_work_rate: string (nullable = true)\n",
      " |-- crossing: string (nullable = true)\n",
      " |-- finishing: string (nullable = true)\n",
      " |-- heading_accuracy: string (nullable = true)\n",
      " |-- short_passing: string (nullable = true)\n",
      " |-- volleys: string (nullable = true)\n",
      " |-- dribbling: string (nullable = true)\n",
      " |-- curve: string (nullable = true)\n",
      " |-- free_kick_accuracy: string (nullable = true)\n",
      " |-- long_passing: string (nullable = true)\n",
      " |-- ball_control: string (nullable = true)\n",
      " |-- acceleration: string (nullable = true)\n",
      " |-- sprint_speed: string (nullable = true)\n",
      " |-- agility: string (nullable = true)\n",
      " |-- reactions: string (nullable = true)\n",
      " |-- balance: string (nullable = true)\n",
      " |-- shot_power: string (nullable = true)\n",
      " |-- jumping: string (nullable = true)\n",
      " |-- stamina: string (nullable = true)\n",
      " |-- strength: string (nullable = true)\n",
      " |-- long_shots: string (nullable = true)\n",
      " |-- aggression: string (nullable = true)\n",
      " |-- interceptions: string (nullable = true)\n",
      " |-- positioning: string (nullable = true)\n",
      " |-- vision: string (nullable = true)\n",
      " |-- penalties: string (nullable = true)\n",
      " |-- marking: string (nullable = true)\n",
      " |-- standing_tackle: string (nullable = true)\n",
      " |-- sliding_tackle: string (nullable = true)\n",
      " |-- gk_diving: string (nullable = true)\n",
      " |-- gk_handling: string (nullable = true)\n",
      " |-- gk_kicking: string (nullable = true)\n",
      " |-- gk_positioning: string (nullable = true)\n",
      " |-- gk_reflexes: string (nullable = true)\n",
      "\n"
     ]
    }
   ],
   "source": [
    "player_attributes.printSchema()"
   ]
  },
  {
   "cell_type": "code",
   "execution_count": 7,
   "id": "7e574d9a-efb5-42a0-a5e5-94bb9b6060f2",
   "metadata": {},
   "outputs": [
    {
     "data": {
      "text/plain": [
       "(183978, 11060)"
      ]
     },
     "execution_count": 7,
     "metadata": {},
     "output_type": "execute_result"
    }
   ],
   "source": [
    "player_attributes.count(), players.count()"
   ]
  },
  {
   "cell_type": "code",
   "execution_count": 8,
   "id": "eb1c0974-3fd6-468a-99f7-5bdbe9c6921b",
   "metadata": {},
   "outputs": [
    {
     "data": {
      "text/plain": [
       "['player_api_id',\n",
       " 'date',\n",
       " 'overall_rating',\n",
       " 'potential',\n",
       " 'finishing',\n",
       " 'heading_accuracy',\n",
       " 'short_passing',\n",
       " 'volleys',\n",
       " 'dribbling',\n",
       " 'curve',\n",
       " 'free_kick_accuracy',\n",
       " 'long_passing',\n",
       " 'ball_control',\n",
       " 'acceleration',\n",
       " 'agility',\n",
       " 'shot_power',\n",
       " 'stamina',\n",
       " 'strength',\n",
       " 'long_shots',\n",
       " 'aggression',\n",
       " 'interceptions',\n",
       " 'positioning',\n",
       " 'vision',\n",
       " 'penalties',\n",
       " 'marking',\n",
       " 'standing_tackle',\n",
       " 'sliding_tackle',\n",
       " 'gk_diving',\n",
       " 'gk_handling',\n",
       " 'gk_kicking',\n",
       " 'gk_positioning',\n",
       " 'gk_reflexes']"
      ]
     },
     "execution_count": 8,
     "metadata": {},
     "output_type": "execute_result"
    }
   ],
   "source": [
    "player_attributes = player_attributes.drop('id',\n",
    " 'player_fifa_api_id','preferred_foot','attacking_work_rate',\n",
    " 'defensive_work_rate',\n",
    " 'crossing','sprint_speed','jumping','reactions',\n",
    " 'balance')\n",
    "player_attributes.columns"
   ]
  },
  {
   "cell_type": "code",
   "execution_count": 9,
   "id": "acf0fd04-33d8-41eb-8248-b78d11982117",
   "metadata": {},
   "outputs": [
    {
     "data": {
      "text/plain": [
       "['player_api_id', 'player_name', 'birthday', 'height', 'weight']"
      ]
     },
     "execution_count": 9,
     "metadata": {},
     "output_type": "execute_result"
    }
   ],
   "source": [
    "players = players.drop('id', 'player_fifa_api_id')\n",
    "players.columns"
   ]
  },
  {
   "cell_type": "code",
   "execution_count": 10,
   "id": "41222cd4-2ac8-4cb4-9839-3b8069ef00ec",
   "metadata": {},
   "outputs": [],
   "source": [
    "player_attributes = player_attributes.dropna()\n",
    "players = players.dropna()"
   ]
  },
  {
   "cell_type": "code",
   "execution_count": 11,
   "id": "fdec210d-79a8-4f4c-af39-924e75e70051",
   "metadata": {},
   "outputs": [],
   "source": [
    "from pyspark.sql.functions import udf"
   ]
  },
  {
   "cell_type": "code",
   "execution_count": 12,
   "id": "34dab629-e87e-465d-a2bf-6b6b750548dc",
   "metadata": {},
   "outputs": [],
   "source": [
    "year_extract_fn = udf(lambda x: x.split('-')[0])"
   ]
  },
  {
   "cell_type": "code",
   "execution_count": 13,
   "id": "1d0b0c51-0e29-4172-9c26-5e44b905679d",
   "metadata": {},
   "outputs": [],
   "source": [
    "player_attributes = player_attributes.withColumn('year', year_extract_fn(player_attributes.date))"
   ]
  },
  {
   "cell_type": "code",
   "execution_count": 14,
   "id": "603dfe14-4055-4695-ae42-8d8b8020a82e",
   "metadata": {},
   "outputs": [
    {
     "name": "stdout",
     "output_type": "stream",
     "text": [
      "+----+-----------+\n",
      "|year|count(year)|\n",
      "+----+-----------+\n",
      "|2016|      14098|\n",
      "|2012|      12625|\n",
      "|2014|      32792|\n",
      "|2013|      38830|\n",
      "+----+-----------+\n",
      "only showing top 4 rows\n",
      "\n"
     ]
    }
   ],
   "source": [
    "player_attributes.select('year').groupBy('year').agg({'year': 'count'}).show(4)"
   ]
  },
  {
   "cell_type": "markdown",
   "id": "5a49929a-46f4-4a97-8f0b-20d07d384e78",
   "metadata": {
    "tags": []
   },
   "source": [
    "### 1. Find the best striker"
   ]
  },
  {
   "cell_type": "code",
   "execution_count": 40,
   "id": "392444d5-6cc5-4142-b5c0-c5dcc6296b4c",
   "metadata": {},
   "outputs": [],
   "source": [
    "pa_2016 = player_attributes.filter(player_attributes.year == 2016)"
   ]
  },
  {
   "cell_type": "markdown",
   "id": "8ff98b72-ca9f-47da-9ee7-3238fb5437ba",
   "metadata": {},
   "source": [
    "#### How many players in year 2016?"
   ]
  },
  {
   "cell_type": "code",
   "execution_count": 16,
   "id": "8d41b0c2-b7fb-4ac6-8698-9070c101eb64",
   "metadata": {},
   "outputs": [
    {
     "data": {
      "text/plain": [
       "5586"
      ]
     },
     "execution_count": 16,
     "metadata": {},
     "output_type": "execute_result"
    }
   ],
   "source": [
    "pa_2016.select(pa_2016.player_api_id).distinct().count()"
   ]
  },
  {
   "cell_type": "code",
   "execution_count": 17,
   "id": "4d05058d-b4ca-4fbc-a9fd-48c1c58729f3",
   "metadata": {},
   "outputs": [],
   "source": [
    "pa_strikers_2016 = pa_2016.groupBy(pa_2016.player_api_id) \\\n",
    "    .agg({\n",
    "         'finishing': 'avg',\n",
    "         'dribbling': 'avg',\n",
    "         'curve': 'avg',\n",
    "         'shot_power': 'avg',\n",
    "         'long_shots': 'avg'\n",
    "    })"
   ]
  },
  {
   "cell_type": "code",
   "execution_count": 18,
   "id": "03020f08-ad5b-479f-af22-b4cae4ce598d",
   "metadata": {},
   "outputs": [
    {
     "name": "stdout",
     "output_type": "stream",
     "text": [
      "+-------------+-----------------+---------------+-----------------+-----------------+---------------+\n",
      "|player_api_id|       avg(curve)|avg(shot_power)|   avg(finishing)|   avg(dribbling)|avg(long_shots)|\n",
      "+-------------+-----------------+---------------+-----------------+-----------------+---------------+\n",
      "|       309726|60.77777777777778|           76.0|75.44444444444444|70.33333333333333|           67.0|\n",
      "|        26112|             76.0|           76.0|             53.0|             73.0|           61.0|\n",
      "|        38433|             78.5|           74.0|            68.25|             81.5|           73.0|\n",
      "|       295060|             27.0|           40.0|             25.0|             56.0|           22.0|\n",
      "|       161396|             63.0|           69.0|             29.0|             70.0|           58.0|\n",
      "+-------------+-----------------+---------------+-----------------+-----------------+---------------+\n",
      "only showing top 5 rows\n",
      "\n"
     ]
    }
   ],
   "source": [
    "pa_strikers_2016.show(5)"
   ]
  },
  {
   "cell_type": "code",
   "execution_count": 19,
   "id": "5de36521-c912-490e-b392-3a97209b04a1",
   "metadata": {},
   "outputs": [],
   "source": [
    "pa_strikers_2016 = pa_strikers_2016 \\\n",
    "    .withColumnRenamed('avg(curve)', 'curve') \\\n",
    "    .withColumnRenamed('avg(shot_power)', 'shot_power') \\\n",
    "    .withColumnRenamed('avg(finishing)', 'finishing') \\\n",
    "    .withColumnRenamed('avg(dribbling)', 'dribbling') \\\n",
    "    .withColumnRenamed('avg(long_shots)', 'long_shot')"
   ]
  },
  {
   "cell_type": "code",
   "execution_count": 20,
   "id": "d94fa2ba-e959-4c5f-8686-547dadeb4655",
   "metadata": {},
   "outputs": [
    {
     "name": "stdout",
     "output_type": "stream",
     "text": [
      "+-------------+-----------------+----------+-----------------+-----------------+---------+\n",
      "|player_api_id|            curve|shot_power|        finishing|        dribbling|long_shot|\n",
      "+-------------+-----------------+----------+-----------------+-----------------+---------+\n",
      "|       309726|60.77777777777778|      76.0|75.44444444444444|70.33333333333333|     67.0|\n",
      "|        26112|             76.0|      76.0|             53.0|             73.0|     61.0|\n",
      "|        38433|             78.5|      74.0|            68.25|             81.5|     73.0|\n",
      "|       295060|             27.0|      40.0|             25.0|             56.0|     22.0|\n",
      "|       161396|             63.0|      69.0|             29.0|             70.0|     58.0|\n",
      "+-------------+-----------------+----------+-----------------+-----------------+---------+\n",
      "only showing top 5 rows\n",
      "\n"
     ]
    }
   ],
   "source": [
    "pa_strikers_2016.show(5)"
   ]
  },
  {
   "cell_type": "code",
   "execution_count": 21,
   "id": "cc8ce6b7-17ac-4656-924f-5b38ff1f0cf5",
   "metadata": {},
   "outputs": [],
   "source": [
    "pa_strikers_2016 = pa_strikers_2016.withColumn(\n",
    "    'striker_grade',\n",
    "    pa_strikers_2016.curve * 20/100 + pa_strikers_2016.long_shot * 10/100 + pa_strikers_2016.finishing * 50/100 + pa_strikers_2016.dribbling * 10/100 + pa_strikers_2016.long_shot * 10/100\n",
    ")"
   ]
  },
  {
   "cell_type": "code",
   "execution_count": 22,
   "id": "6a10dca4-0330-416b-84ea-e2b00ccd4b1a",
   "metadata": {},
   "outputs": [
    {
     "name": "stdout",
     "output_type": "stream",
     "text": [
      "+-------------+-----+----------+---------+---------+---------+-----------------+\n",
      "|player_api_id|curve|shot_power|finishing|dribbling|long_shot|    striker_grade|\n",
      "+-------------+-----+----------+---------+---------+---------+-----------------+\n",
      "|        37412| 82.0|      87.0|     90.0|     89.0|     84.0|87.10000000000001|\n",
      "|        30834| 86.0|      86.0|     85.0|     93.0|     90.0|             87.0|\n",
      "|        38817| 84.0|      88.5|     88.0|    86.25|    87.25|           86.875|\n",
      "|        39122| 85.0|      82.0|     87.0|     84.0|     84.0|85.70000000000002|\n",
      "|       325916| 83.5|      77.0|     87.0|     89.0|     83.0|             85.7|\n",
      "+-------------+-----+----------+---------+---------+---------+-----------------+\n",
      "only showing top 5 rows\n",
      "\n"
     ]
    }
   ],
   "source": [
    "pa_strikers_2016.filter(pa_strikers_2016.striker_grade > 70).sort('striker_grade', ascending=False).show(5)"
   ]
  },
  {
   "cell_type": "code",
   "execution_count": 23,
   "id": "d445e2a4-e1cc-470f-a019-a09f86fc733f",
   "metadata": {},
   "outputs": [],
   "source": [
    "striker_details = pa_strikers_2016 \\\n",
    "    .select('player_api_id', 'striker_grade') \\\n",
    "    .join(players, players.player_api_id == pa_strikers_2016.player_api_id) \\\n",
    "    .sort('striker_grade', ascending=False)"
   ]
  },
  {
   "cell_type": "code",
   "execution_count": 24,
   "id": "30a60fc7-b256-4354-9219-b97f5f429c01",
   "metadata": {},
   "outputs": [
    {
     "name": "stdout",
     "output_type": "stream",
     "text": [
      "+-------------+-----------------+-------------+------------------+-------------------+------+------+\n",
      "|player_api_id|    striker_grade|player_api_id|       player_name|           birthday|height|weight|\n",
      "+-------------+-----------------+-------------+------------------+-------------------+------+------+\n",
      "|        37412|87.10000000000001|        37412|     Sergio Aguero|1988-06-02 00:00:00|172.72|   163|\n",
      "|        30834|             87.0|        30834|      Arjen Robben|1984-01-23 00:00:00|180.34|   176|\n",
      "|        38817|           86.875|        38817|      Carlos Tevez|1984-02-05 00:00:00|172.72|   157|\n",
      "|        39122|85.70000000000002|        39122|             Jonas|1984-04-01 00:00:00|180.34|   165|\n",
      "|       325916|             85.7|       325916|      Paulo Dybala|1993-11-15 00:00:00|175.26|   161|\n",
      "|       129944|85.33333333333331|       129944|        Marco Reus|1989-05-31 00:00:00|180.34|   165|\n",
      "|       164684|             85.0|       164684|   James Rodriguez|1991-07-12 00:00:00|180.34|   165|\n",
      "|        20276|             84.9|        20276|              Hulk|1986-07-25 00:00:00|180.34|   187|\n",
      "|        93447|            84.55|        93447|Robert Lewandowski|1988-08-21 00:00:00|185.42|   174|\n",
      "|       116772|             84.5|       116772|    Thomas Mueller|1989-09-13 00:00:00|185.42|   165|\n",
      "+-------------+-----------------+-------------+------------------+-------------------+------+------+\n",
      "only showing top 10 rows\n",
      "\n"
     ]
    }
   ],
   "source": [
    "striker_details.show(10)"
   ]
  },
  {
   "cell_type": "code",
   "execution_count": 25,
   "id": "2470f35b-b207-4554-970a-7525f645fe7a",
   "metadata": {},
   "outputs": [],
   "source": [
    "from pyspark.sql.functions import broadcast"
   ]
  },
  {
   "cell_type": "code",
   "execution_count": 32,
   "id": "4e8f3f02-4969-4967-8306-7db276ebeee1",
   "metadata": {},
   "outputs": [],
   "source": [
    "striker_details = players \\\n",
    "    .select('player_api_id', 'player_name') \\\n",
    "    .join(broadcast(pa_strikers_2016), players.player_api_id == pa_strikers_2016.player_api_id, 'inner') \\\n",
    "    .sort('striker_grade', ascending=False)"
   ]
  },
  {
   "cell_type": "code",
   "execution_count": 33,
   "id": "8dab84dd-cc3b-437c-afb5-2fc08db06ba2",
   "metadata": {},
   "outputs": [
    {
     "name": "stdout",
     "output_type": "stream",
     "text": [
      "+-------------+-------------+-------------+-----+----------+---------+---------+---------+-----------------+\n",
      "|player_api_id|  player_name|player_api_id|curve|shot_power|finishing|dribbling|long_shot|    striker_grade|\n",
      "+-------------+-------------+-------------+-----+----------+---------+---------+---------+-----------------+\n",
      "|        37412|Sergio Aguero|        37412| 82.0|      87.0|     90.0|     89.0|     84.0|87.10000000000001|\n",
      "|        30834| Arjen Robben|        30834| 86.0|      86.0|     85.0|     93.0|     90.0|             87.0|\n",
      "|        38817| Carlos Tevez|        38817| 84.0|      88.5|     88.0|    86.25|    87.25|           86.875|\n",
      "|        39122|        Jonas|        39122| 85.0|      82.0|     87.0|     84.0|     84.0|85.70000000000002|\n",
      "|       325916| Paulo Dybala|       325916| 83.5|      77.0|     87.0|     89.0|     83.0|             85.7|\n",
      "+-------------+-------------+-------------+-----+----------+---------+---------+---------+-----------------+\n",
      "only showing top 5 rows\n",
      "\n"
     ]
    }
   ],
   "source": [
    "striker_details.show(5)"
   ]
  },
  {
   "cell_type": "markdown",
   "id": "2a76ade7-15ad-4369-92ee-8a158494a3d1",
   "metadata": {
    "tags": []
   },
   "source": [
    "### 2.Does height of player affect their heading attributes?"
   ]
  },
  {
   "cell_type": "code",
   "execution_count": 43,
   "id": "fa23dca4-4096-49b6-83fa-7fb607f67aa5",
   "metadata": {},
   "outputs": [
    {
     "name": "stdout",
     "output_type": "stream",
     "text": [
      "+-------------+------------------+\n",
      "|player_api_id|  heading_accuracy|\n",
      "+-------------+------------------+\n",
      "|        24504|             77.32|\n",
      "|       309726|            69.625|\n",
      "|        74468|              50.0|\n",
      "|        26112|  69.6842105263158|\n",
      "|        38433|57.833333333333336|\n",
      "+-------------+------------------+\n",
      "only showing top 5 rows\n",
      "\n"
     ]
    }
   ],
   "source": [
    "pa_heading_acc = player_attributes.groupBy(player_attributes.player_api_id) \\\n",
    "    .agg({\n",
    "        'heading_accuracy': 'avg'\n",
    "    }) \\\n",
    "    .withColumnRenamed('avg(heading_accuracy)', 'heading_accuracy')\n",
    "pa_heading_acc.show(5)"
   ]
  },
  {
   "cell_type": "code",
   "execution_count": 48,
   "id": "5c348752-7cb9-4987-b705-a480b3e8509c",
   "metadata": {},
   "outputs": [],
   "source": [
    "players_heading_acc = pa_heading_acc \\\n",
    "    .join(broadcast(players), pa_heading_acc.player_api_id == players.player_api_id) \\\n",
    "    .select('player_name', 'height', 'heading_accuracy')"
   ]
  },
  {
   "cell_type": "code",
   "execution_count": 49,
   "id": "a248e099-54e6-44bd-a931-f14b5af46d83",
   "metadata": {},
   "outputs": [
    {
     "name": "stdout",
     "output_type": "stream",
     "text": [
      "+--------------------+------+------------------+\n",
      "|         player_name|height|  heading_accuracy|\n",
      "+--------------------+------+------------------+\n",
      "|Alessandro Gamberini|185.42|             77.32|\n",
      "|      Andrea Belotti|180.34|            69.625|\n",
      "|        Andrea Conti| 177.8|              50.0|\n",
      "|      Benoit Cheyrou|182.88|  69.6842105263158|\n",
      "|        Borja Valero|175.26|57.833333333333336|\n",
      "+--------------------+------+------------------+\n",
      "only showing top 5 rows\n",
      "\n"
     ]
    }
   ],
   "source": [
    "players_heading_acc.show(5)"
   ]
  },
  {
   "cell_type": "code",
   "execution_count": 50,
   "id": "b1cec963-d64e-4cac-9e80-8f86fc259bbd",
   "metadata": {},
   "outputs": [],
   "source": [
    "short_count = sc.accumulator(0)\n",
    "med_count = sc.accumulator(0)\n",
    "tall_count = sc.accumulator(0)"
   ]
  },
  {
   "cell_type": "code",
   "execution_count": 51,
   "id": "dc8bb4d0-f17c-4e0c-be1b-aa4a91daa2cc",
   "metadata": {},
   "outputs": [],
   "source": [
    "def count_players_by_height(row):\n",
    "    height = float(row.height)\n",
    "    if height <= 175:\n",
    "        short_count.add(1)\n",
    "    elif height > 175 and height <= 185:\n",
    "        med_count.add(1)\n",
    "    else:\n",
    "        tall_count.add(1)"
   ]
  },
  {
   "cell_type": "code",
   "execution_count": 52,
   "id": "88e25802-69c9-4a82-8cdb-a098d615b4a1",
   "metadata": {},
   "outputs": [],
   "source": [
    "players_heading_acc.foreach(count_players_by_height)"
   ]
  },
  {
   "cell_type": "code",
   "execution_count": 54,
   "id": "70ac5ac8-f6d1-4523-b220-db5cc9346daa",
   "metadata": {},
   "outputs": [
    {
     "data": {
      "text/plain": [
       "(1086, 5725, 3771)"
      ]
     },
     "execution_count": 54,
     "metadata": {},
     "output_type": "execute_result"
    }
   ],
   "source": [
    "short_count.value, med_count.value, tall_count.value"
   ]
  },
  {
   "cell_type": "code",
   "execution_count": 55,
   "id": "692bd96b-44c6-4285-8bbc-7f64ca17df09",
   "metadata": {},
   "outputs": [],
   "source": [
    "short_ha_count = sc.accumulator(0)\n",
    "med_ha_count = sc.accumulator(0)\n",
    "tall_ha_count = sc.accumulator(0)"
   ]
  },
  {
   "cell_type": "code",
   "execution_count": 56,
   "id": "afd82596-9dc6-42db-a4a8-51bcfb562660",
   "metadata": {},
   "outputs": [],
   "source": [
    "def count_players_by_ha(row):\n",
    "    height = float(row.height)\n",
    "    ha = float(row.heading_accuracy)\n",
    "    if ha < 80:\n",
    "        return\n",
    "    if height <= 175:\n",
    "        short_ha_count.add(1)\n",
    "    elif height > 175 and height <= 185:\n",
    "        med_ha_count.add(1)\n",
    "    else:\n",
    "        tall_ha_count.add(1)"
   ]
  },
  {
   "cell_type": "code",
   "execution_count": 57,
   "id": "e7a364c0-a9ae-4459-aa03-85cd9934dc23",
   "metadata": {},
   "outputs": [],
   "source": [
    "players_heading_acc.foreach(count_players_by_ha)"
   ]
  },
  {
   "cell_type": "code",
   "execution_count": 58,
   "id": "800c30b8-cb3d-439f-b3f0-52b1a49752b4",
   "metadata": {},
   "outputs": [
    {
     "data": {
      "text/plain": [
       "(0, 44, 198)"
      ]
     },
     "execution_count": 58,
     "metadata": {},
     "output_type": "execute_result"
    }
   ],
   "source": [
    "short_ha_count.value, med_ha_count.value, tall_ha_count.value"
   ]
  }
 ],
 "metadata": {
  "kernelspec": {
   "display_name": "Python 3 (ipykernel)",
   "language": "python",
   "name": "python3"
  },
  "language_info": {
   "codemirror_mode": {
    "name": "ipython",
    "version": 3
   },
   "file_extension": ".py",
   "mimetype": "text/x-python",
   "name": "python",
   "nbconvert_exporter": "python",
   "pygments_lexer": "ipython3",
   "version": "3.9.7"
  }
 },
 "nbformat": 4,
 "nbformat_minor": 5
}
