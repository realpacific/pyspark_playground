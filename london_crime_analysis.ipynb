{
 "cells": [
  {
   "cell_type": "code",
   "execution_count": 1,
   "id": "0de329b0-85c1-44c8-8684-d7fc57f96fa3",
   "metadata": {},
   "outputs": [],
   "source": [
    "from pyspark.sql import SparkSession"
   ]
  },
  {
   "cell_type": "code",
   "execution_count": 2,
   "id": "6f74f0e4-97f7-43b2-990d-e953126babcd",
   "metadata": {},
   "outputs": [],
   "source": [
    "# Spark session & context\n",
    "spark = SparkSession.builder.master('local').getOrCreate()\n",
    "sc = spark.sparkContext"
   ]
  },
  {
   "cell_type": "code",
   "execution_count": 3,
   "id": "b84ff4fe-bb7c-40b3-9943-6d232cdd2f6f",
   "metadata": {},
   "outputs": [
    {
     "data": {
      "text/html": [
       "\n",
       "        <div>\n",
       "            <p><b>SparkContext</b></p>\n",
       "\n",
       "            <p><a href=\"http://224195e239d1:4040\">Spark UI</a></p>\n",
       "\n",
       "            <dl>\n",
       "              <dt>Version</dt>\n",
       "                <dd><code>v3.2.1</code></dd>\n",
       "              <dt>Master</dt>\n",
       "                <dd><code>local</code></dd>\n",
       "              <dt>AppName</dt>\n",
       "                <dd><code>pyspark-shell</code></dd>\n",
       "            </dl>\n",
       "        </div>\n",
       "        "
      ],
      "text/plain": [
       "<SparkContext master=local appName=pyspark-shell>"
      ]
     },
     "execution_count": 3,
     "metadata": {},
     "output_type": "execute_result"
    }
   ],
   "source": [
    "sc"
   ]
  },
  {
   "cell_type": "code",
   "execution_count": 4,
   "id": "2bb376ed-87e1-48c4-bdea-d092008c85ca",
   "metadata": {},
   "outputs": [],
   "source": [
    "data = spark.read.format('csv').option('header', True).load('datasets/london_crime_by_lsoa.csv')"
   ]
  },
  {
   "cell_type": "code",
   "execution_count": 5,
   "id": "721c1b44-4e5f-476e-ba82-0e2a8226ff8b",
   "metadata": {},
   "outputs": [
    {
     "name": "stdout",
     "output_type": "stream",
     "text": [
      "root\n",
      " |-- lsoa_code: string (nullable = true)\n",
      " |-- borough: string (nullable = true)\n",
      " |-- major_category: string (nullable = true)\n",
      " |-- minor_category: string (nullable = true)\n",
      " |-- value: string (nullable = true)\n",
      " |-- year: string (nullable = true)\n",
      " |-- month: string (nullable = true)\n",
      "\n"
     ]
    }
   ],
   "source": [
    "data.printSchema()"
   ]
  },
  {
   "cell_type": "code",
   "execution_count": 6,
   "id": "5282358c-c26e-4314-802c-90330b4dd436",
   "metadata": {},
   "outputs": [
    {
     "name": "stdout",
     "output_type": "stream",
     "text": [
      "+---------+----------+--------------------+--------------------+-----+----+-----+\n",
      "|lsoa_code|   borough|      major_category|      minor_category|value|year|month|\n",
      "+---------+----------+--------------------+--------------------+-----+----+-----+\n",
      "|E01001116|   Croydon|            Burglary|Burglary in Other...|    0|2016|   11|\n",
      "|E01001646| Greenwich|Violence Against ...|      Other violence|    0|2016|   11|\n",
      "|E01000677|   Bromley|Violence Against ...|      Other violence|    0|2015|    5|\n",
      "|E01003774| Redbridge|            Burglary|Burglary in Other...|    0|2016|    3|\n",
      "|E01004563|Wandsworth|             Robbery|   Personal Property|    0|2008|    6|\n",
      "+---------+----------+--------------------+--------------------+-----+----+-----+\n",
      "only showing top 5 rows\n",
      "\n"
     ]
    }
   ],
   "source": [
    "data.show(5)"
   ]
  },
  {
   "cell_type": "code",
   "execution_count": 7,
   "id": "20f09f10-43f2-4683-a390-0ac39416bc50",
   "metadata": {},
   "outputs": [
    {
     "data": {
      "text/plain": [
       "13490604"
      ]
     },
     "execution_count": 7,
     "metadata": {},
     "output_type": "execute_result"
    }
   ],
   "source": [
    "data.count()"
   ]
  },
  {
   "cell_type": "code",
   "execution_count": 8,
   "id": "ce851f22-e3ae-4787-94f3-75a92f3d6bf9",
   "metadata": {},
   "outputs": [
    {
     "data": {
      "text/plain": [
       "DataFrame[lsoa_code: string, borough: string, major_category: string, minor_category: string, value: string, year: string, month: string]"
      ]
     },
     "execution_count": 8,
     "metadata": {},
     "output_type": "execute_result"
    }
   ],
   "source": [
    "data.dropna()"
   ]
  },
  {
   "cell_type": "code",
   "execution_count": 9,
   "id": "f31e6375-da2a-4e22-8a91-f6439a05a09f",
   "metadata": {},
   "outputs": [],
   "source": [
    "data = data.drop('lsoa_code')"
   ]
  },
  {
   "cell_type": "code",
   "execution_count": 10,
   "id": "5d58623a-e47d-49a0-9297-91ce5401dc52",
   "metadata": {},
   "outputs": [
    {
     "name": "stdout",
     "output_type": "stream",
     "text": [
      "+--------------------+\n",
      "|             borough|\n",
      "+--------------------+\n",
      "|             Croydon|\n",
      "|          Wandsworth|\n",
      "|              Bexley|\n",
      "|             Lambeth|\n",
      "|Barking and Dagenham|\n",
      "+--------------------+\n",
      "only showing top 5 rows\n",
      "\n"
     ]
    }
   ],
   "source": [
    "total_borough = data.select('borough').distinct()\n",
    "total_borough.show(5)"
   ]
  },
  {
   "cell_type": "code",
   "execution_count": 11,
   "id": "564344ff-7376-48b1-b7b0-16073a0dea27",
   "metadata": {},
   "outputs": [
    {
     "name": "stdout",
     "output_type": "stream",
     "text": [
      "+-------+--------------------+--------------------+-----+----+-----+\n",
      "|borough|      major_category|      minor_category|value|year|month|\n",
      "+-------+--------------------+--------------------+-----+----+-----+\n",
      "|Croydon|            Burglary|Burglary in Other...|    0|2016|   11|\n",
      "|Croydon|               Drugs| Possession Of Drugs|    0|2010|   12|\n",
      "|Croydon|  Theft and Handling|         Other Theft|    1|2014|    5|\n",
      "|Croydon|Violence Against ...|    Offensive Weapon|    0|2012|   12|\n",
      "|Croydon|               Drugs|    Drug Trafficking|    0|2008|    2|\n",
      "+-------+--------------------+--------------------+-----+----+-----+\n",
      "\n"
     ]
    }
   ],
   "source": [
    "croydon_reports = data.filter(data['borough']=='Croydon').limit(5)\n",
    "croydon_reports.show()"
   ]
  },
  {
   "cell_type": "code",
   "execution_count": 12,
   "id": "411f2d08-7dc2-4243-b536-841d52ed1651",
   "metadata": {},
   "outputs": [
    {
     "data": {
      "text/plain": [
       "4496868"
      ]
     },
     "execution_count": 12,
     "metadata": {},
     "output_type": "execute_result"
    }
   ],
   "source": [
    "count_of_cases_from_14_to_16 = data.filter(data['year'].isin([2014, 2015, 2016]))\n",
    "count_of_cases_from_14_to_16.count()"
   ]
  },
  {
   "cell_type": "code",
   "execution_count": 13,
   "id": "3c13b095-c1af-43f4-b5a3-f7af6cf55b7f",
   "metadata": {},
   "outputs": [
    {
     "name": "stdout",
     "output_type": "stream",
     "text": [
      "+--------------------+--------------------+--------------------+-----+----+-----+\n",
      "|             borough|      major_category|      minor_category|value|year|month|\n",
      "+--------------------+--------------------+--------------------+-----+----+-----+\n",
      "|             Croydon|            Burglary|Burglary in Other...|    0|2016|   11|\n",
      "|           Redbridge|            Burglary|Burglary in Other...|    0|2016|    3|\n",
      "|              Barnet|Violence Against ...|          Harassment|    1|2014|    1|\n",
      "|           Southwark|  Theft and Handling|         Other Theft|    1|2014|   12|\n",
      "|               Brent|Violence Against ...| Assault with Injury|    1|2014|    9|\n",
      "|              Newham|Violence Against ...|          Harassment|    0|2015|    8|\n",
      "|             Lambeth|     Criminal Damage|Criminal Damage T...|    0|2016|    7|\n",
      "|            Havering|Violence Against ...|          Harassment|    1|2016|    8|\n",
      "|             Enfield|  Theft and Handling|Motor Vehicle Int...|    1|2015|    7|\n",
      "|             Enfield|  Theft and Handling|Theft From Motor ...|    2|2015|   10|\n",
      "|            Haringey|  Theft and Handling|Handling Stolen G...|    0|2015|   12|\n",
      "|Richmond upon Thames|Violence Against ...|    Offensive Weapon|    0|2014|   11|\n",
      "|           Islington|  Theft and Handling|Handling Stolen G...|    0|2016|   11|\n",
      "|            Lewisham|Violence Against ...|          Harassment|    2|2015|    3|\n",
      "|          Wandsworth|Violence Against ...|          Harassment|    0|2016|   11|\n",
      "|             Croydon|     Criminal Damage|Other Criminal Da...|    0|2015|    4|\n",
      "|       Tower Hamlets|  Theft and Handling|    Theft From Shops|    0|2015|    1|\n",
      "|Barking and Dagenham|Violence Against ...|        Wounding/GBH|    0|2014|   12|\n",
      "|         Westminster|Violence Against ...|    Offensive Weapon|    0|2016|    3|\n",
      "|               Brent|  Theft and Handling|Motor Vehicle Int...|    0|2016|    5|\n",
      "+--------------------+--------------------+--------------------+-----+----+-----+\n",
      "only showing top 20 rows\n",
      "\n"
     ]
    }
   ],
   "source": [
    "count_of_cases_from_14_to_16.sample(0.1).show()"
   ]
  },
  {
   "cell_type": "code",
   "execution_count": 14,
   "id": "f296cf48-6f49-47ff-adaf-550dcccf76e1",
   "metadata": {},
   "outputs": [
    {
     "name": "stdout",
     "output_type": "stream",
     "text": [
      "+--------------------+------------+\n",
      "|             borough|convinctions|\n",
      "+--------------------+------------+\n",
      "|             Croydon|    260294.0|\n",
      "|          Wandsworth|    204741.0|\n",
      "|              Bexley|    114136.0|\n",
      "|             Lambeth|    292178.0|\n",
      "|Barking and Dagenham|    149447.0|\n",
      "|              Camden|    275147.0|\n",
      "|           Greenwich|    181568.0|\n",
      "|              Newham|    262024.0|\n",
      "|       Tower Hamlets|    228613.0|\n",
      "|            Hounslow|    186772.0|\n",
      "+--------------------+------------+\n",
      "only showing top 10 rows\n",
      "\n"
     ]
    }
   ],
   "source": [
    "borough_grouped_convictions_sum = data.groupby('borough') \\\n",
    "    .agg({\"value\": \"sum\"}) \\\n",
    "    .withColumnRenamed('sum(value)', 'convinctions')\n",
    "borough_grouped_convictions_sum.show(10)"
   ]
  },
  {
   "cell_type": "code",
   "execution_count": 15,
   "id": "22e4b7d6-1c6b-4e51-b020-e0ec270fe374",
   "metadata": {},
   "outputs": [
    {
     "name": "stdout",
     "output_type": "stream",
     "text": [
      "+-----------------+\n",
      "|sum(convinctions)|\n",
      "+-----------------+\n",
      "|        6447758.0|\n",
      "+-----------------+\n",
      "\n"
     ]
    }
   ],
   "source": [
    "total_number_of_convictions = borough_grouped_convictions_sum.agg({'convinctions': 'sum'})\n",
    "total_number_of_convictions.show()\n",
    "total_number_of_convictions_value = total_number_of_convictions.collect()[0][0]"
   ]
  },
  {
   "cell_type": "code",
   "execution_count": 16,
   "id": "8098933f-45ad-4624-a25d-b716d869e64e",
   "metadata": {},
   "outputs": [
    {
     "data": {
      "text/plain": [
       "6447758.0"
      ]
     },
     "execution_count": 16,
     "metadata": {},
     "output_type": "execute_result"
    }
   ],
   "source": [
    "total_number_of_convictions_value"
   ]
  },
  {
   "cell_type": "code",
   "execution_count": 17,
   "id": "5b724487-1270-4723-90eb-9a6752f075a9",
   "metadata": {},
   "outputs": [],
   "source": [
    "import pyspark.sql.functions as func"
   ]
  },
  {
   "cell_type": "code",
   "execution_count": 18,
   "id": "1b7800cd-7bf6-4250-b9a5-e770030fb86d",
   "metadata": {},
   "outputs": [],
   "source": [
    "borough_percent_contribution = borough_grouped_convictions_sum \\\n",
    "    .withColumn('% contrib', func.round(borough_grouped_convictions_sum.convinctions / total_number_of_convictions_value * 100, 2)) "
   ]
  },
  {
   "cell_type": "markdown",
   "id": "6c2df447-2c76-47d4-9116-c5c4b669308c",
   "metadata": {},
   "source": [
    "Borough with highest to lowest crimes"
   ]
  },
  {
   "cell_type": "code",
   "execution_count": 19,
   "id": "29abf593-3789-4ce0-8c1a-11bf01a7caf1",
   "metadata": {},
   "outputs": [
    {
     "name": "stdout",
     "output_type": "stream",
     "text": [
      "+-----------+------------+---------+\n",
      "|    borough|convinctions|% contrib|\n",
      "+-----------+------------+---------+\n",
      "|Westminster|    455028.0|     7.06|\n",
      "|    Lambeth|    292178.0|     4.53|\n",
      "|  Southwark|    278809.0|     4.32|\n",
      "|     Camden|    275147.0|     4.27|\n",
      "|     Newham|    262024.0|     4.06|\n",
      "+-----------+------------+---------+\n",
      "only showing top 5 rows\n",
      "\n"
     ]
    }
   ],
   "source": [
    "borough_percent_contribution.sort('% contrib', ascending=False).show(5)"
   ]
  },
  {
   "cell_type": "code",
   "execution_count": 20,
   "id": "40859cc7-89b5-4e62-b0d4-ab8a31b138b6",
   "metadata": {},
   "outputs": [
    {
     "name": "stdout",
     "output_type": "stream",
     "text": [
      "+-----+-----------+\n",
      "|month|convictions|\n",
      "+-----+-----------+\n",
      "|   10|    60537.0|\n",
      "|   11|    59704.0|\n",
      "|    7|    58564.0|\n",
      "|    3|    57669.0|\n",
      "|   12|    57565.0|\n",
      "|    6|    57039.0|\n",
      "|    9|    56933.0|\n",
      "|    5|    56327.0|\n",
      "|    8|    55641.0|\n",
      "|    1|    55515.0|\n",
      "|    4|    53467.0|\n",
      "|    2|    51222.0|\n",
      "+-----+-----------+\n",
      "\n"
     ]
    }
   ],
   "source": [
    "monthly_crime_report_in_2014 = data.filter(data.year == 2014)\\\n",
    "    .groupBy('month')\\\n",
    "    .agg({'value' : 'sum'}) \\\n",
    "    .withColumnRenamed('sum(value)', 'convictions') \\\n",
    "    .sort('convictions', ascending=False)\n",
    "\n",
    "monthly_crime_report_in_2014.show()"
   ]
  },
  {
   "cell_type": "code",
   "execution_count": 24,
   "id": "53b4ea24-0e5a-4dd3-9dd3-57a53f7f7698",
   "metadata": {},
   "outputs": [
    {
     "name": "stdout",
     "output_type": "stream",
     "text": [
      "+----------------------+-------+----------------+-----+\n",
      "|borough_major_category|Robbery|Fraud or Forgery|Drugs|\n",
      "+----------------------+-------+----------------+-----+\n",
      "|              Havering|  27648|            5508|32616|\n",
      "|                Merton|  23652|            5724|29160|\n",
      "|              Haringey|  29484|           10368|35424|\n",
      "|         Tower Hamlets|  28512|            5400|37368|\n",
      "|               Bromley|  34668|            8532|42336|\n",
      "|               Enfield|  35532|            9720|44064|\n",
      "|  Kingston upon Thames|  15660|            3780|22140|\n",
      "|           Westminster|  25056|            8748|32616|\n",
      "|  Richmond upon Thames|  18468|            2808|23004|\n",
      "|              Lewisham|  34884|           11016|43740|\n",
      "|                 Brent|  34128|            9288|46980|\n",
      "|  Barking and Dagenham|  22248|            7236|26244|\n",
      "|             Redbridge|  32400|            8532|36504|\n",
      "|             Islington|  26244|            5184|34128|\n",
      "|               Hackney|  29160|            7560|38772|\n",
      "|                Newham|  34452|           10692|41580|\n",
      "|        City of London|    540|               0|  756|\n",
      "|                Sutton|  21060|            3024|26784|\n",
      "|             Southwark|  35316|           11772|45144|\n",
      "|                Harrow|  23976|            4752|31212|\n",
      "+----------------------+-------+----------------+-----+\n",
      "only showing top 20 rows\n",
      "\n"
     ]
    }
   ],
   "source": [
    "data.crosstab('borough', 'major_category') \\\n",
    "    .select('borough_major_category', 'Robbery', 'Fraud or Forgery', 'Drugs').show()"
   ]
  },
  {
   "cell_type": "code",
   "execution_count": 26,
   "id": "2a1e0f81-24c5-4f19-abf5-ba76cec9df6b",
   "metadata": {},
   "outputs": [],
   "source": [
    "import matplotlib.pyplot as plt\n",
    "%matplotlib inline"
   ]
  },
  {
   "cell_type": "code",
   "execution_count": 27,
   "id": "1cab4fa7-bdc1-4565-b7ea-b7dcaa3283a1",
   "metadata": {},
   "outputs": [],
   "source": [
    "plt.style.use('ggplot')"
   ]
  },
  {
   "cell_type": "code",
   "execution_count": 39,
   "id": "097e342e-cc44-45c5-acac-ffa9dcd2a3d7",
   "metadata": {},
   "outputs": [],
   "source": [
    "def yearly_report(year):\n",
    "    report = data.filter(data.year == year).groupBy('borough') \\\n",
    "        .agg({'value':'sum'}) \\\n",
    "        .withColumnRenamed('sum(value)', 'convictions')\n",
    "    boroughs = [x[0] for x in report.toLocalIterator()]\n",
    "    convictions = [x[1] for x in report.toLocalIterator()]\n",
    "    plt.figure(figsize=(33,10))\n",
    "    plt.title(f'Crime report for year {year}')\n",
    "    plt.xlabel('Boroughs')\n",
    "    plt.ylabel('Convictions')\n",
    "    plt.bar(boroughs, convictions)\n",
    "    plt.xticks(rotation=90)\n",
    "    plt.autoscale()\n",
    "    plt.show()"
   ]
  },
  {
   "cell_type": "code",
   "execution_count": 40,
   "id": "df534eca-7f8b-4ef4-b4c7-0cc0600baafd",
   "metadata": {},
   "outputs": [
    {
     "data": {
      "image/png": "[encoded data removed]",
      "text/plain": [
       "<Figure size 2376x720 with 1 Axes>"
      ]
     },
     "metadata": {},
     "output_type": "display_data"
    }
   ],
   "source": [
    "yearly_report(2014)"
   ]
  }
 ],
 "metadata": {
  "kernelspec": {
   "display_name": "Python 3 (ipykernel)",
   "language": "python",
   "name": "python3"
  },
  "language_info": {
   "codemirror_mode": {
    "name": "ipython",
    "version": 3
   },
   "file_extension": ".py",
   "mimetype": "text/x-python",
   "name": "python",
   "nbconvert_exporter": "python",
   "pygments_lexer": "ipython3",
   "version": "3.9.7"
  }
 },
 "nbformat": 4,
 "nbformat_minor": 5
}
