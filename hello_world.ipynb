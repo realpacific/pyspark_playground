{
 "cells": [
  {
   "cell_type": "code",
   "execution_count": 1,
   "id": "140ca9db-2c82-4466-9410-c277691bfbdc",
   "metadata": {},
   "outputs": [],
   "source": [
    "from pyspark.sql import SparkSession"
   ]
  },
  {
   "cell_type": "code",
   "execution_count": 2,
   "id": "34a5e0c2-5be6-4c25-8dc8-790bfb052e7f",
   "metadata": {},
   "outputs": [],
   "source": [
    "# Spark session & context\n",
    "spark = SparkSession.builder.master('local').getOrCreate()\n",
    "sc = spark.sparkContext"
   ]
  },
  {
   "cell_type": "code",
   "execution_count": 3,
   "id": "e79a6875-0448-4a29-8c0f-f994d9558d5d",
   "metadata": {},
   "outputs": [
    {
     "data": {
      "text/html": [
       "\n",
       "        <div>\n",
       "            <p><b>SparkContext</b></p>\n",
       "\n",
       "            <p><a href=\"http://703877a38a6c:4040\">Spark UI</a></p>\n",
       "\n",
       "            <dl>\n",
       "              <dt>Version</dt>\n",
       "                <dd><code>v3.2.1</code></dd>\n",
       "              <dt>Master</dt>\n",
       "                <dd><code>local</code></dd>\n",
       "              <dt>AppName</dt>\n",
       "                <dd><code>pyspark-shell</code></dd>\n",
       "            </dl>\n",
       "        </div>\n",
       "        "
      ],
      "text/plain": [
       "<SparkContext master=local appName=pyspark-shell>"
      ]
     },
     "execution_count": 3,
     "metadata": {},
     "output_type": "execute_result"
    }
   ],
   "source": [
    "sc"
   ]
  },
  {
   "cell_type": "code",
   "execution_count": 4,
   "id": "80f02c03-3051-48af-bbd4-935ec400204d",
   "metadata": {},
   "outputs": [],
   "source": [
    "from pyspark.sql.types import Row\n",
    "from datetime import datetime"
   ]
  },
  {
   "cell_type": "markdown",
   "id": "cbf35a1e-2c4b-41dc-9306-d5a8f2fdae19",
   "metadata": {
    "tags": []
   },
   "source": [
    "SC can convert any Python's list to RDD."
   ]
  },
  {
   "cell_type": "code",
   "execution_count": 5,
   "id": "404b761d-2a3c-4ed1-b8d8-7564ce5aba0a",
   "metadata": {},
   "outputs": [],
   "source": [
    "simple_data = sc.parallelize([1, 2, 3, 4, 'Hello'])"
   ]
  },
  {
   "cell_type": "code",
   "execution_count": 6,
   "id": "9476769e-0fa7-427b-ad30-6b4ac6f12c57",
   "metadata": {},
   "outputs": [
    {
     "data": {
      "text/plain": [
       "5"
      ]
     },
     "execution_count": 6,
     "metadata": {},
     "output_type": "execute_result"
    }
   ],
   "source": [
    "simple_data.count()"
   ]
  },
  {
   "cell_type": "code",
   "execution_count": 7,
   "id": "63cd3320-0d3c-4b60-ac98-869e7de4f05d",
   "metadata": {},
   "outputs": [
    {
     "data": {
      "text/plain": [
       "[1, 2, 3]"
      ]
     },
     "execution_count": 7,
     "metadata": {},
     "output_type": "execute_result"
    }
   ],
   "source": [
    "simple_data.take(3)"
   ]
  },
  {
   "cell_type": "code",
   "execution_count": 8,
   "id": "c0c06caa-a37f-4ce8-a07f-d58d66be1f6e",
   "metadata": {},
   "outputs": [
    {
     "data": {
      "text/plain": [
       "[1, 2, 3, 4, 'Hello']"
      ]
     },
     "execution_count": 8,
     "metadata": {},
     "output_type": "execute_result"
    }
   ],
   "source": [
    "simple_data.collect()"
   ]
  },
  {
   "cell_type": "code",
   "execution_count": 9,
   "id": "78075728-bea8-480c-92af-27b570b51897",
   "metadata": {},
   "outputs": [
    {
     "name": "stdout",
     "output_type": "stream",
     "text": [
      "+---+-----+\n",
      "| _1|   _2|\n",
      "+---+-----+\n",
      "|  1|Hello|\n",
      "|  2|World|\n",
      "+---+-----+\n",
      "\n"
     ]
    }
   ],
   "source": [
    "records = sc.parallelize([\n",
    "    [1, 'Hello'], [2, 'World']\n",
    "])\n",
    "records.toDF().show()"
   ]
  },
  {
   "cell_type": "code",
   "execution_count": 10,
   "id": "e549f198-f4bf-4a8c-80c7-c7d268e4f4b4",
   "metadata": {},
   "outputs": [
    {
     "name": "stdout",
     "output_type": "stream",
     "text": [
      "+---+-----+\n",
      "| id| name|\n",
      "+---+-----+\n",
      "|  1|Hello|\n",
      "|  2|World|\n",
      "+---+-----+\n",
      "\n"
     ]
    }
   ],
   "source": [
    "rows = sc.parallelize([\n",
    "    Row(id=1, name='Hello'), Row(id=2, name='World')\n",
    "])\n",
    "rows.toDF().show()"
   ]
  },
  {
   "cell_type": "markdown",
   "id": "142f3b5f-2bee-443b-8069-0084fc7c01e5",
   "metadata": {},
   "source": [
    "## Spark SQL"
   ]
  },
  {
   "cell_type": "code",
   "execution_count": 11,
   "id": "fc0df44e-1a21-47bd-9e50-2bbf65c4cea3",
   "metadata": {},
   "outputs": [
    {
     "name": "stderr",
     "output_type": "stream",
     "text": [
      "/usr/local/spark/python/pyspark/sql/context.py:77: FutureWarning: Deprecated in 3.0.0. Use SparkSession.builder.getOrCreate() instead.\n",
      "  warnings.warn(\n"
     ]
    }
   ],
   "source": [
    "from pyspark.sql import SQLContext\n",
    "sqlContext = SQLContext(sc)"
   ]
  },
  {
   "cell_type": "code",
   "execution_count": 12,
   "id": "c9160fd0-f566-4943-9e2d-592577b9a974",
   "metadata": {},
   "outputs": [],
   "source": [
    "users = [\n",
    "    ('Spark', 30),\n",
    "    ('Apache', 3),\n",
    "    ('Python', 19),\n",
    "]"
   ]
  },
  {
   "cell_type": "code",
   "execution_count": 13,
   "id": "cb5797c6-f041-462e-9c76-be06dec25c5e",
   "metadata": {},
   "outputs": [
    {
     "name": "stdout",
     "output_type": "stream",
     "text": [
      "+------+-----+\n",
      "|  tech|value|\n",
      "+------+-----+\n",
      "| Spark|   30|\n",
      "|Apache|    3|\n",
      "|Python|   19|\n",
      "+------+-----+\n",
      "\n"
     ]
    }
   ],
   "source": [
    "users_df = sqlContext.createDataFrame(users, ['tech', 'value'])\n",
    "users_df.show()"
   ]
  },
  {
   "cell_type": "markdown",
   "id": "28450a83-5a17-4ab2-b87f-2763d9d6b673",
   "metadata": {},
   "source": [
    "Conver to Pandas DataFrame"
   ]
  },
  {
   "cell_type": "code",
   "execution_count": 14,
   "id": "93799400-6d10-4913-a03b-38e1be184819",
   "metadata": {},
   "outputs": [
    {
     "data": {
      "text/plain": [
       "tech     Apache\n",
       "value         3\n",
       "Name: 1, dtype: object"
      ]
     },
     "execution_count": 14,
     "metadata": {},
     "output_type": "execute_result"
    }
   ],
   "source": [
    "apache = users_df.toPandas().loc[1]\n",
    "apache"
   ]
  },
  {
   "cell_type": "code",
   "execution_count": 15,
   "id": "8b4e3055-754b-428b-bfb4-99842a4e4020",
   "metadata": {},
   "outputs": [
    {
     "name": "stdout",
     "output_type": "stream",
     "text": [
      "+-----+------+-------+\n",
      "|value|  tech|minus10|\n",
      "+-----+------+-------+\n",
      "|   30| Spark|     20|\n",
      "|    3|Apache|     -7|\n",
      "|   19|Python|      9|\n",
      "+-----+------+-------+\n",
      "\n"
     ]
    }
   ],
   "source": [
    "users_df.select('value', 'tech') \\\n",
    "    .withColumn('minus10', users_df.value - 10) \\\n",
    "    .show()"
   ]
  }
 ],
 "metadata": {
  "kernelspec": {
   "display_name": "Python 3 (ipykernel)",
   "language": "python",
   "name": "python3"
  },
  "language_info": {
   "codemirror_mode": {
    "name": "ipython",
    "version": 3
   },
   "file_extension": ".py",
   "mimetype": "text/x-python",
   "name": "python",
   "nbconvert_exporter": "python",
   "pygments_lexer": "ipython3",
   "version": "3.9.7"
  }
 },
 "nbformat": 4,
 "nbformat_minor": 5
}
