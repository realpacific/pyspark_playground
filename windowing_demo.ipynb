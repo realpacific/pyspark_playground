{
 "cells": [
  {
   "cell_type": "code",
   "execution_count": 1,
   "id": "c6152ea9-23e7-44e9-8a68-e1eb7ba097e9",
   "metadata": {},
   "outputs": [],
   "source": [
    "from pyspark.sql import SparkSession\n",
    "\n",
    "# Spark session & context\n",
    "spark = SparkSession.builder.master('local').getOrCreate()\n",
    "sc = spark.sparkContext"
   ]
  },
  {
   "cell_type": "code",
   "execution_count": 2,
   "id": "31a12d91-e746-4436-a012-00a812e8c715",
   "metadata": {},
   "outputs": [],
   "source": [
    "products = spark.read.format('csv').option('header', True).load('./datasets/products.csv')"
   ]
  },
  {
   "cell_type": "code",
   "execution_count": 3,
   "id": "b6056903-8f47-4fbc-898e-5bcb51150fbd",
   "metadata": {},
   "outputs": [
    {
     "name": "stdout",
     "output_type": "stream",
     "text": [
      "+----------+--------+-----+\n",
      "|   product|category|price|\n",
      "+----------+--------+-----+\n",
      "|Samsung TX|  Tablet|  999|\n",
      "|Samsung JX|  Mobile|  799|\n",
      "|Redmi Note|  Mobile|  399|\n",
      "|        Mi|  Mobile|  299|\n",
      "|      iPad|  Tablet|  789|\n",
      "|    iPhone|  Mobile|  999|\n",
      "|  Micromax|  Mobile|  249|\n",
      "|    Lenovo|  Tablet|  499|\n",
      "|   OnePlus|  Mobile|  356|\n",
      "|        Xu|  Tablet|  267|\n",
      "+----------+--------+-----+\n",
      "\n"
     ]
    }
   ],
   "source": [
    "products.show()"
   ]
  },
  {
   "cell_type": "code",
   "execution_count": 4,
   "id": "2e1c8a7e-6771-47eb-b381-2533e55d4a76",
   "metadata": {},
   "outputs": [],
   "source": [
    "import sys\n",
    "from pyspark.sql.window import Window\n",
    "import pyspark.sql.functions as func"
   ]
  },
  {
   "cell_type": "code",
   "execution_count": 14,
   "id": "c2cdf2f6-e894-499b-bde2-72142ebd2074",
   "metadata": {},
   "outputs": [],
   "source": [
    "window_spec_part_category = Window.partitionBy('category').orderBy(products.price.desc())"
   ]
  },
  {
   "cell_type": "code",
   "execution_count": 15,
   "id": "c1be86ff-e02b-4c4a-b9f8-c9ea61c9447e",
   "metadata": {},
   "outputs": [],
   "source": [
    "price_rank = func.rank().over(window_spec_part_category)"
   ]
  },
  {
   "cell_type": "code",
   "execution_count": 16,
   "id": "f411a577-e36d-41ad-a17b-b871f5b1e831",
   "metadata": {},
   "outputs": [
    {
     "name": "stdout",
     "output_type": "stream",
     "text": [
      "+----------+--------+-----+----+\n",
      "|   product|category|price|rank|\n",
      "+----------+--------+-----+----+\n",
      "|    iPhone|  Mobile|  999|   1|\n",
      "|Samsung JX|  Mobile|  799|   2|\n",
      "|Redmi Note|  Mobile|  399|   3|\n",
      "|   OnePlus|  Mobile|  356|   4|\n",
      "|        Mi|  Mobile|  299|   5|\n",
      "|  Micromax|  Mobile|  249|   6|\n",
      "|Samsung TX|  Tablet|  999|   1|\n",
      "|      iPad|  Tablet|  789|   2|\n",
      "|    Lenovo|  Tablet|  499|   3|\n",
      "|        Xu|  Tablet|  267|   4|\n",
      "+----------+--------+-----+----+\n",
      "\n"
     ]
    }
   ],
   "source": [
    "product_rank = products.withColumn('rank', func.rank().over(window_spec_part_category))\n",
    "product_rank.show()"
   ]
  },
  {
   "cell_type": "code",
   "execution_count": 25,
   "id": "cb70e04d-3e69-4557-8ae2-b3de88e18dbc",
   "metadata": {},
   "outputs": [],
   "source": [
    "products = products.withColumn('price', products.price.cast('int'))"
   ]
  },
  {
   "cell_type": "code",
   "execution_count": 29,
   "id": "eb1ef592-9fa0-4861-8ebc-dfa877b72418",
   "metadata": {},
   "outputs": [],
   "source": [
    "window_spec_prev_and_current_row = Window.partitionBy('category')\\\n",
    "    .orderBy(products.price.desc()) \\\n",
    "    .rowsBetween(-1, 0)"
   ]
  },
  {
   "cell_type": "code",
   "execution_count": 30,
   "id": "828abf6d-5316-4b8d-b704-3e464849f3b1",
   "metadata": {},
   "outputs": [],
   "source": [
    "price_max_between_prev_and_current = func.max('price').over(window_spec_prev_and_current_row)"
   ]
  },
  {
   "cell_type": "code",
   "execution_count": 31,
   "id": "9f98274e-4ddd-4406-ba38-0f7628b0df13",
   "metadata": {},
   "outputs": [
    {
     "name": "stdout",
     "output_type": "stream",
     "text": [
      "+----------+--------+-----+---------+\n",
      "|   product|category|price|max_price|\n",
      "+----------+--------+-----+---------+\n",
      "|    iPhone|  Mobile|  999|      999|\n",
      "|Samsung JX|  Mobile|  799|      999|\n",
      "|Redmi Note|  Mobile|  399|      799|\n",
      "|   OnePlus|  Mobile|  356|      399|\n",
      "|        Mi|  Mobile|  299|      356|\n",
      "|  Micromax|  Mobile|  249|      299|\n",
      "|Samsung TX|  Tablet|  999|      999|\n",
      "|      iPad|  Tablet|  789|      999|\n",
      "|    Lenovo|  Tablet|  499|      789|\n",
      "|        Xu|  Tablet|  267|      499|\n",
      "+----------+--------+-----+---------+\n",
      "\n"
     ]
    }
   ],
   "source": [
    "products.withColumn('max_price', price_max_between_prev_and_current).show()"
   ]
  },
  {
   "cell_type": "code",
   "execution_count": 33,
   "id": "1d916240-d119-46bd-a34d-c0072271a21e",
   "metadata": {},
   "outputs": [],
   "source": [
    "window_spec_all = Window.partitionBy('category')\\\n",
    "    .orderBy(products.price.desc()) \\\n",
    "    .rangeBetween(-sys.maxsize, sys.maxsize) # all rows between the partition"
   ]
  },
  {
   "cell_type": "code",
   "execution_count": 34,
   "id": "d7fbc653-82cf-47c4-9807-f8498c9bcdcc",
   "metadata": {},
   "outputs": [],
   "source": [
    "price_diff_against_highest_price_product = func.max(products.price).over(window_spec_all) - products.price"
   ]
  },
  {
   "cell_type": "code",
   "execution_count": 35,
   "id": "813300ec-5695-49d6-b984-bfe0d402296a",
   "metadata": {},
   "outputs": [
    {
     "name": "stdout",
     "output_type": "stream",
     "text": [
      "+----------+--------+-----+----+\n",
      "|   product|category|price|diff|\n",
      "+----------+--------+-----+----+\n",
      "|    iPhone|  Mobile|  999|   0|\n",
      "|Samsung JX|  Mobile|  799| 200|\n",
      "|Redmi Note|  Mobile|  399| 600|\n",
      "|   OnePlus|  Mobile|  356| 643|\n",
      "|        Mi|  Mobile|  299| 700|\n",
      "|  Micromax|  Mobile|  249| 750|\n",
      "|Samsung TX|  Tablet|  999|   0|\n",
      "|      iPad|  Tablet|  789| 210|\n",
      "|    Lenovo|  Tablet|  499| 500|\n",
      "|        Xu|  Tablet|  267| 732|\n",
      "+----------+--------+-----+----+\n",
      "\n"
     ]
    }
   ],
   "source": [
    "products.withColumn('diff', price_diff_against_highest_price_product).show()"
   ]
  }
 ],
 "metadata": {
  "kernelspec": {
   "display_name": "Python 3 (ipykernel)",
   "language": "python",
   "name": "python3"
  },
  "language_info": {
   "codemirror_mode": {
    "name": "ipython",
    "version": 3
   },
   "file_extension": ".py",
   "mimetype": "text/x-python",
   "name": "python",
   "nbconvert_exporter": "python",
   "pygments_lexer": "ipython3",
   "version": "3.9.7"
  }
 },
 "nbformat": 4,
 "nbformat_minor": 5
}
