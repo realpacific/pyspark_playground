{
 "cells": [
  {
   "cell_type": "code",
   "execution_count": 1,
   "id": "43a09171-b59f-44ad-9374-e65b336c1da0",
   "metadata": {},
   "outputs": [],
   "source": [
    "from pyspark.sql import SparkSession\n",
    "\n",
    "# Spark session & context\n",
    "spark = SparkSession.builder.master('local').getOrCreate()\n",
    "sc = spark.sparkContext"
   ]
  },
  {
   "cell_type": "code",
   "execution_count": 2,
   "id": "1d154234-ca5d-4ccd-a22e-9c1493f8af2f",
   "metadata": {},
   "outputs": [],
   "source": [
    "from pyspark.sql.types import Row\n",
    "from datetime import datetime"
   ]
  },
  {
   "cell_type": "code",
   "execution_count": 3,
   "id": "617a63cc-dff7-4b7d-94f4-0be4dffc6c60",
   "metadata": {},
   "outputs": [],
   "source": [
    "airlines = spark.read.format('csv').option('header', True).load('datasets/airlines.csv')\n",
    "airports = spark.read.format('csv').option('header', True).load('datasets/airports.csv')\n",
    "flights = spark.read.format('csv').option('header', True).load('datasets/flights.csv')"
   ]
  },
  {
   "cell_type": "code",
   "execution_count": 8,
   "id": "46b04640-914b-4d05-8cd2-92a4a8e3abaa",
   "metadata": {},
   "outputs": [],
   "source": [
    "airlines.createOrReplaceTempView(\"airlines\")\n",
    "airports.createOrReplaceTempView(\"airports\")\n",
    "flights.createOrReplaceTempView(\"flights\")"
   ]
  },
  {
   "cell_type": "code",
   "execution_count": 7,
   "id": "82d54e18-6c8f-42a8-a6c1-dcf06d989b74",
   "metadata": {},
   "outputs": [
    {
     "name": "stdout",
     "output_type": "stream",
     "text": [
      "+-----+--------------------+\n",
      "| Code|         Description|\n",
      "+-----+--------------------+\n",
      "|19031|Mackey Internatio...|\n",
      "|19032|Munz Northern Air...|\n",
      "|19033|Cochise Airlines ...|\n",
      "|19034|Golden Gate Airli...|\n",
      "|19035|  Aeromech Inc.: RZZ|\n",
      "+-----+--------------------+\n",
      "only showing top 5 rows\n",
      "\n"
     ]
    }
   ],
   "source": [
    "spark.sql('select * from airlines').show(5)"
   ]
  },
  {
   "cell_type": "code",
   "execution_count": 9,
   "id": "b3a52fd0-8085-44db-a836-de253e1ea3cc",
   "metadata": {},
   "outputs": [
    {
     "data": {
      "text/plain": [
       "(476881, 1579, 6323)"
      ]
     },
     "execution_count": 9,
     "metadata": {},
     "output_type": "execute_result"
    }
   ],
   "source": [
    "flights.count(), airlines.count(), airports.count()"
   ]
  },
  {
   "cell_type": "code",
   "execution_count": 10,
   "id": "f8104071-ca47-4f0a-81da-df2fda528523",
   "metadata": {},
   "outputs": [
    {
     "name": "stdout",
     "output_type": "stream",
     "text": [
      "+----+--------------------+\n",
      "|Code|         Description|\n",
      "+----+--------------------+\n",
      "| 01A|Afognak Lake, AK:...|\n",
      "| 03A|Granite Mountain,...|\n",
      "| 04A|Lik, AK: Lik Mini...|\n",
      "| 05A|Little Squaw, AK:...|\n",
      "| 06A|Kizhuyak, AK: Kiz...|\n",
      "+----+--------------------+\n",
      "only showing top 5 rows\n",
      "\n"
     ]
    }
   ],
   "source": [
    "spark.sql(\"select * from airports\").show(5)"
   ]
  },
  {
   "cell_type": "code",
   "execution_count": 11,
   "id": "fcff5168-e5e4-490f-bfa9-c9c4356966f8",
   "metadata": {},
   "outputs": [
    {
     "name": "stdout",
     "output_type": "stream",
     "text": [
      "+----------+--------+-------------+------+-----------+---------+---------------+-------+-------------+--------+--------+\n",
      "|      date|airlines|flight_number|origin|destination|departure|departure_delay|arrival|arrival_delay|air_time|distance|\n",
      "+----------+--------+-------------+------+-----------+---------+---------------+-------+-------------+--------+--------+\n",
      "|2014-04-01|   19805|            1|   JFK|        LAX|     0854|          -6.00|   1217|         2.00|  355.00| 2475.00|\n",
      "|2014-04-01|   19805|            2|   LAX|        JFK|     0944|          14.00|   1736|       -29.00|  269.00| 2475.00|\n",
      "|2014-04-01|   19805|            3|   JFK|        LAX|     1224|          -6.00|   1614|        39.00|  371.00| 2475.00|\n",
      "|2014-04-01|   19805|            4|   LAX|        JFK|     1240|          25.00|   2028|       -27.00|  264.00| 2475.00|\n",
      "|2014-04-01|   19805|            5|   DFW|        HNL|     1300|          -5.00|   1650|        15.00|  510.00| 3784.00|\n",
      "+----------+--------+-------------+------+-----------+---------+---------------+-------+-------------+--------+--------+\n",
      "only showing top 5 rows\n",
      "\n"
     ]
    }
   ],
   "source": [
    "spark.sql(\"select * from flights\").show(5)"
   ]
  },
  {
   "cell_type": "code",
   "execution_count": 17,
   "id": "08166981-b2d9-4356-ac3b-21e823bd315e",
   "metadata": {},
   "outputs": [
    {
     "name": "stdout",
     "output_type": "stream",
     "text": [
      "+--------+--------------------+\n",
      "|airlines|total dist travelled|\n",
      "+--------+--------------------+\n",
      "|   19393|         7.0116607E7|\n",
      "|   19790|         5.7091355E7|\n",
      "|   19977|         5.1629879E7|\n",
      "|   19805|         4.6572644E7|\n",
      "|   20355|         3.0257721E7|\n",
      "+--------+--------------------+\n",
      "only showing top 5 rows\n",
      "\n"
     ]
    }
   ],
   "source": [
    "total_dist_travelled = spark.sql(\"select * from flights\") \\\n",
    "    .groupBy('airlines')\\\n",
    "    .agg({'distance': 'sum'})\\\n",
    "    .withColumnRenamed('sum(distance)', 'total dist travelled') \\\n",
    "    .sort('total dist travelled', ascending=False) \n",
    "total_dist_travelled.show(5)"
   ]
  },
  {
   "cell_type": "code",
   "execution_count": 21,
   "id": "5dc5fa15-5848-49fe-8490-847b58679ad4",
   "metadata": {},
   "outputs": [
    {
     "name": "stdout",
     "output_type": "stream",
     "text": [
      "+--------+--------------------+\n",
      "|airlines|total_dist_travelled|\n",
      "+--------+--------------------+\n",
      "|   19393|         7.0116607E7|\n",
      "|   19790|         5.7091355E7|\n",
      "|   19977|         5.1629879E7|\n",
      "|   19805|         4.6572644E7|\n",
      "|   20355|         3.0257721E7|\n",
      "+--------+--------------------+\n",
      "only showing top 5 rows\n",
      "\n"
     ]
    }
   ],
   "source": [
    "total_dist_travelled_sql = spark.sql(\"\"\"\n",
    "    select airlines, SUM(distance) as total_dist_travelled from flights\n",
    "    GROUP BY airlines ORDER BY total_dist_travelled desc\n",
    "\"\"\")\n",
    "total_dist_travelled_sql.show(5)"
   ]
  },
  {
   "cell_type": "code",
   "execution_count": 31,
   "id": "30ea73a0-dc28-4276-80eb-00f058228409",
   "metadata": {},
   "outputs": [
    {
     "name": "stdout",
     "output_type": "stream",
     "text": [
      "+--------+--------------------+--------------------+\n",
      "|airlines|total_dist_travelled|         Description|\n",
      "+--------+--------------------+--------------------+\n",
      "|   19393|         7.0116607E7|Southwest Airline...|\n",
      "|   19790|         5.7091355E7|Delta Air Lines I...|\n",
      "|   19977|         5.1629879E7|United Air Lines ...|\n",
      "|   19805|         4.6572644E7|American Airlines...|\n",
      "|   20355|         3.0257721E7| US Airways Inc.: US|\n",
      "+--------+--------------------+--------------------+\n",
      "only showing top 5 rows\n",
      "\n"
     ]
    }
   ],
   "source": [
    "total_dist_travelled_sql = spark.sql(\"\"\"\n",
    "    select flights.airlines, SUM(distance) as total_dist_travelled, Description\n",
    "    from flights JOIN airlines\n",
    "    ON airlines.Code = flights.airlines\n",
    "    GROUP BY airlines, Description ORDER BY total_dist_travelled desc\n",
    "\"\"\")\n",
    "total_dist_travelled_sql.show(5)"
   ]
  }
 ],
 "metadata": {
  "kernelspec": {
   "display_name": "Python 3 (ipykernel)",
   "language": "python",
   "name": "python3"
  },
  "language_info": {
   "codemirror_mode": {
    "name": "ipython",
    "version": 3
   },
   "file_extension": ".py",
   "mimetype": "text/x-python",
   "name": "python",
   "nbconvert_exporter": "python",
   "pygments_lexer": "ipython3",
   "version": "3.9.7"
  }
 },
 "nbformat": 4,
 "nbformat_minor": 5
}
